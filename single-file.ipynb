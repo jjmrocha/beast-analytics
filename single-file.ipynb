{
 "cells": [
  {
   "cell_type": "markdown",
   "metadata": {},
   "source": [
    "Beast Analytics\n",
    "===============\n",
    "\n",
    "Single output file analise\n",
    "--------------------------"
   ]
  },
  {
   "cell_type": "markdown",
   "metadata": {},
   "source": [
    "#### Results file for analysis"
   ]
  },
  {
   "cell_type": "code",
   "execution_count": 1,
   "metadata": {},
   "outputs": [],
   "source": [
    "file_name = 'datasets/sample.csv'"
   ]
  },
  {
   "cell_type": "markdown",
   "metadata": {},
   "source": [
    "---\n",
    "#### Load data"
   ]
  },
  {
   "cell_type": "code",
   "execution_count": 2,
   "metadata": {},
   "outputs": [],
   "source": [
    "# Imports\n",
    "import pandas as pd\n",
    "import seaborn as sea\n",
    "import numpy as np\n",
    "from functions import to_datetime, delta_in_seconds\n",
    "# Data loading\n",
    "bo = pd.read_csv(file_name)"
   ]
  },
  {
   "cell_type": "markdown",
   "metadata": {},
   "source": [
    "Sample data"
   ]
  },
  {
   "cell_type": "code",
   "execution_count": 3,
   "metadata": {},
   "outputs": [
    {
     "data": {
      "text/html": [
       "<div>\n",
       "<style scoped>\n",
       "    .dataframe tbody tr th:only-of-type {\n",
       "        vertical-align: middle;\n",
       "    }\n",
       "\n",
       "    .dataframe tbody tr th {\n",
       "        vertical-align: top;\n",
       "    }\n",
       "\n",
       "    .dataframe thead th {\n",
       "        text-align: right;\n",
       "    }\n",
       "</style>\n",
       "<table border=\"1\" class=\"dataframe\">\n",
       "  <thead>\n",
       "    <tr style=\"text-align: right;\">\n",
       "      <th></th>\n",
       "      <th>Timestamp</th>\n",
       "      <th>Request</th>\n",
       "      <th>Result</th>\n",
       "      <th>StatusCode</th>\n",
       "      <th>IsSuccess</th>\n",
       "      <th>Duration</th>\n",
       "    </tr>\n",
       "  </thead>\n",
       "  <tbody>\n",
       "    <tr>\n",
       "      <th>0</th>\n",
       "      <td>2020-08-06 23:04:36.032</td>\n",
       "      <td>GET http://127.0.0.1:8080/apps/114</td>\n",
       "      <td>Executed</td>\n",
       "      <td>200.0</td>\n",
       "      <td>True</td>\n",
       "      <td>28</td>\n",
       "    </tr>\n",
       "    <tr>\n",
       "      <th>1</th>\n",
       "      <td>2020-08-06 23:04:36.032</td>\n",
       "      <td>GET http://127.0.0.1:8080/apps/119</td>\n",
       "      <td>Executed</td>\n",
       "      <td>200.0</td>\n",
       "      <td>True</td>\n",
       "      <td>28</td>\n",
       "    </tr>\n",
       "    <tr>\n",
       "      <th>2</th>\n",
       "      <td>2020-08-06 23:04:36.031</td>\n",
       "      <td>GET http://127.0.0.1:8080/apps/108</td>\n",
       "      <td>Executed</td>\n",
       "      <td>200.0</td>\n",
       "      <td>True</td>\n",
       "      <td>46</td>\n",
       "    </tr>\n",
       "    <tr>\n",
       "      <th>3</th>\n",
       "      <td>2020-08-06 23:04:36.032</td>\n",
       "      <td>GET http://127.0.0.1:8080/apps/102</td>\n",
       "      <td>Executed</td>\n",
       "      <td>200.0</td>\n",
       "      <td>True</td>\n",
       "      <td>45</td>\n",
       "    </tr>\n",
       "    <tr>\n",
       "      <th>4</th>\n",
       "      <td>2020-08-06 23:04:36.031</td>\n",
       "      <td>GET http://127.0.0.1:8080/apps/106</td>\n",
       "      <td>Executed</td>\n",
       "      <td>200.0</td>\n",
       "      <td>True</td>\n",
       "      <td>53</td>\n",
       "    </tr>\n",
       "    <tr>\n",
       "      <th>5</th>\n",
       "      <td>2020-08-06 23:04:36.031</td>\n",
       "      <td>GET http://127.0.0.1:8080/apps/101</td>\n",
       "      <td>Executed</td>\n",
       "      <td>200.0</td>\n",
       "      <td>True</td>\n",
       "      <td>53</td>\n",
       "    </tr>\n",
       "    <tr>\n",
       "      <th>6</th>\n",
       "      <td>2020-08-06 23:04:36.031</td>\n",
       "      <td>GET http://127.0.0.1:8080/apps/111</td>\n",
       "      <td>Executed</td>\n",
       "      <td>200.0</td>\n",
       "      <td>True</td>\n",
       "      <td>57</td>\n",
       "    </tr>\n",
       "    <tr>\n",
       "      <th>7</th>\n",
       "      <td>2020-08-06 23:04:36.032</td>\n",
       "      <td>GET http://127.0.0.1:8080/apps/106</td>\n",
       "      <td>Executed</td>\n",
       "      <td>200.0</td>\n",
       "      <td>True</td>\n",
       "      <td>58</td>\n",
       "    </tr>\n",
       "    <tr>\n",
       "      <th>8</th>\n",
       "      <td>2020-08-06 23:04:36.032</td>\n",
       "      <td>GET http://127.0.0.1:8080/apps/120</td>\n",
       "      <td>Executed</td>\n",
       "      <td>200.0</td>\n",
       "      <td>True</td>\n",
       "      <td>62</td>\n",
       "    </tr>\n",
       "    <tr>\n",
       "      <th>9</th>\n",
       "      <td>2020-08-06 23:04:36.032</td>\n",
       "      <td>GET http://127.0.0.1:8080/apps/115</td>\n",
       "      <td>Executed</td>\n",
       "      <td>200.0</td>\n",
       "      <td>True</td>\n",
       "      <td>65</td>\n",
       "    </tr>\n",
       "    <tr>\n",
       "      <th>10</th>\n",
       "      <td>2020-08-06 23:04:36.032</td>\n",
       "      <td>GET http://127.0.0.1:8080/apps/104</td>\n",
       "      <td>Executed</td>\n",
       "      <td>200.0</td>\n",
       "      <td>True</td>\n",
       "      <td>68</td>\n",
       "    </tr>\n",
       "    <tr>\n",
       "      <th>11</th>\n",
       "      <td>2020-08-06 23:04:36.032</td>\n",
       "      <td>GET http://127.0.0.1:8080/apps/111</td>\n",
       "      <td>Executed</td>\n",
       "      <td>200.0</td>\n",
       "      <td>True</td>\n",
       "      <td>73</td>\n",
       "    </tr>\n",
       "    <tr>\n",
       "      <th>12</th>\n",
       "      <td>2020-08-06 23:04:36.032</td>\n",
       "      <td>GET http://127.0.0.1:8080/apps/112</td>\n",
       "      <td>Executed</td>\n",
       "      <td>200.0</td>\n",
       "      <td>True</td>\n",
       "      <td>78</td>\n",
       "    </tr>\n",
       "    <tr>\n",
       "      <th>13</th>\n",
       "      <td>2020-08-06 23:04:36.032</td>\n",
       "      <td>GET http://127.0.0.1:8080/apps/120</td>\n",
       "      <td>Executed</td>\n",
       "      <td>200.0</td>\n",
       "      <td>True</td>\n",
       "      <td>83</td>\n",
       "    </tr>\n",
       "    <tr>\n",
       "      <th>14</th>\n",
       "      <td>2020-08-06 23:04:36.032</td>\n",
       "      <td>GET http://127.0.0.1:8080/apps/102</td>\n",
       "      <td>Executed</td>\n",
       "      <td>200.0</td>\n",
       "      <td>True</td>\n",
       "      <td>87</td>\n",
       "    </tr>\n",
       "    <tr>\n",
       "      <th>15</th>\n",
       "      <td>2020-08-06 23:04:36.031</td>\n",
       "      <td>GET http://127.0.0.1:8080/apps/105</td>\n",
       "      <td>Executed</td>\n",
       "      <td>200.0</td>\n",
       "      <td>True</td>\n",
       "      <td>88</td>\n",
       "    </tr>\n",
       "    <tr>\n",
       "      <th>16</th>\n",
       "      <td>2020-08-06 23:04:36.032</td>\n",
       "      <td>GET http://127.0.0.1:8080/apps/116</td>\n",
       "      <td>Executed</td>\n",
       "      <td>200.0</td>\n",
       "      <td>True</td>\n",
       "      <td>91</td>\n",
       "    </tr>\n",
       "    <tr>\n",
       "      <th>17</th>\n",
       "      <td>2020-08-06 23:04:36.032</td>\n",
       "      <td>GET http://127.0.0.1:8080/apps/106</td>\n",
       "      <td>Executed</td>\n",
       "      <td>200.0</td>\n",
       "      <td>True</td>\n",
       "      <td>87</td>\n",
       "    </tr>\n",
       "    <tr>\n",
       "      <th>18</th>\n",
       "      <td>2020-08-06 23:04:36.033</td>\n",
       "      <td>GET http://127.0.0.1:8080/apps/108</td>\n",
       "      <td>Executed</td>\n",
       "      <td>200.0</td>\n",
       "      <td>True</td>\n",
       "      <td>93</td>\n",
       "    </tr>\n",
       "    <tr>\n",
       "      <th>19</th>\n",
       "      <td>2020-08-06 23:04:36.032</td>\n",
       "      <td>GET http://127.0.0.1:8080/apps/105</td>\n",
       "      <td>Executed</td>\n",
       "      <td>200.0</td>\n",
       "      <td>True</td>\n",
       "      <td>87</td>\n",
       "    </tr>\n",
       "  </tbody>\n",
       "</table>\n",
       "</div>"
      ],
      "text/plain": [
       "                  Timestamp                             Request    Result  \\\n",
       "0   2020-08-06 23:04:36.032  GET http://127.0.0.1:8080/apps/114  Executed   \n",
       "1   2020-08-06 23:04:36.032  GET http://127.0.0.1:8080/apps/119  Executed   \n",
       "2   2020-08-06 23:04:36.031  GET http://127.0.0.1:8080/apps/108  Executed   \n",
       "3   2020-08-06 23:04:36.032  GET http://127.0.0.1:8080/apps/102  Executed   \n",
       "4   2020-08-06 23:04:36.031  GET http://127.0.0.1:8080/apps/106  Executed   \n",
       "5   2020-08-06 23:04:36.031  GET http://127.0.0.1:8080/apps/101  Executed   \n",
       "6   2020-08-06 23:04:36.031  GET http://127.0.0.1:8080/apps/111  Executed   \n",
       "7   2020-08-06 23:04:36.032  GET http://127.0.0.1:8080/apps/106  Executed   \n",
       "8   2020-08-06 23:04:36.032  GET http://127.0.0.1:8080/apps/120  Executed   \n",
       "9   2020-08-06 23:04:36.032  GET http://127.0.0.1:8080/apps/115  Executed   \n",
       "10  2020-08-06 23:04:36.032  GET http://127.0.0.1:8080/apps/104  Executed   \n",
       "11  2020-08-06 23:04:36.032  GET http://127.0.0.1:8080/apps/111  Executed   \n",
       "12  2020-08-06 23:04:36.032  GET http://127.0.0.1:8080/apps/112  Executed   \n",
       "13  2020-08-06 23:04:36.032  GET http://127.0.0.1:8080/apps/120  Executed   \n",
       "14  2020-08-06 23:04:36.032  GET http://127.0.0.1:8080/apps/102  Executed   \n",
       "15  2020-08-06 23:04:36.031  GET http://127.0.0.1:8080/apps/105  Executed   \n",
       "16  2020-08-06 23:04:36.032  GET http://127.0.0.1:8080/apps/116  Executed   \n",
       "17  2020-08-06 23:04:36.032  GET http://127.0.0.1:8080/apps/106  Executed   \n",
       "18  2020-08-06 23:04:36.033  GET http://127.0.0.1:8080/apps/108  Executed   \n",
       "19  2020-08-06 23:04:36.032  GET http://127.0.0.1:8080/apps/105  Executed   \n",
       "\n",
       "    StatusCode  IsSuccess  Duration  \n",
       "0        200.0       True        28  \n",
       "1        200.0       True        28  \n",
       "2        200.0       True        46  \n",
       "3        200.0       True        45  \n",
       "4        200.0       True        53  \n",
       "5        200.0       True        53  \n",
       "6        200.0       True        57  \n",
       "7        200.0       True        58  \n",
       "8        200.0       True        62  \n",
       "9        200.0       True        65  \n",
       "10       200.0       True        68  \n",
       "11       200.0       True        73  \n",
       "12       200.0       True        78  \n",
       "13       200.0       True        83  \n",
       "14       200.0       True        87  \n",
       "15       200.0       True        88  \n",
       "16       200.0       True        91  \n",
       "17       200.0       True        87  \n",
       "18       200.0       True        93  \n",
       "19       200.0       True        87  "
      ]
     },
     "execution_count": 3,
     "metadata": {},
     "output_type": "execute_result"
    }
   ],
   "source": [
    "bo.head(20)"
   ]
  },
  {
   "cell_type": "markdown",
   "metadata": {},
   "source": [
    "Cleaning and additional processing"
   ]
  },
  {
   "cell_type": "code",
   "execution_count": 4,
   "metadata": {},
   "outputs": [],
   "source": [
    "# Add addition columns\n",
    "bo['TimestampBySecond'] = bo.Timestamp.apply(to_datetime)\n",
    "first_datetime = bo.TimestampBySecond.min()\n",
    "bo['ExecutionPace'] = bo.TimestampBySecond.apply(delta_in_seconds, args=(first_datetime,))\n",
    "# Droping columns\n",
    "bo = bo.drop(['Timestamp'], axis=1)"
   ]
  },
  {
   "cell_type": "markdown",
   "metadata": {},
   "source": [
    "Some info about the data"
   ]
  },
  {
   "cell_type": "code",
   "execution_count": 5,
   "metadata": {},
   "outputs": [
    {
     "name": "stdout",
     "output_type": "stream",
     "text": [
      "<class 'pandas.core.frame.DataFrame'>\n",
      "RangeIndex: 10000 entries, 0 to 9999\n",
      "Data columns (total 7 columns):\n",
      " #   Column             Non-Null Count  Dtype         \n",
      "---  ------             --------------  -----         \n",
      " 0   Request            10000 non-null  object        \n",
      " 1   Result             10000 non-null  object        \n",
      " 2   StatusCode         9999 non-null   float64       \n",
      " 3   IsSuccess          10000 non-null  bool          \n",
      " 4   Duration           10000 non-null  int64         \n",
      " 5   TimestampBySecond  10000 non-null  datetime64[ns]\n",
      " 6   ExecutionPace      10000 non-null  int64         \n",
      "dtypes: bool(1), datetime64[ns](1), float64(1), int64(2), object(2)\n",
      "memory usage: 478.6+ KB\n"
     ]
    }
   ],
   "source": [
    "bo.info()"
   ]
  },
  {
   "cell_type": "markdown",
   "metadata": {},
   "source": [
    "Sampling"
   ]
  },
  {
   "cell_type": "code",
   "execution_count": 6,
   "metadata": {},
   "outputs": [
    {
     "data": {
      "text/html": [
       "<div>\n",
       "<style scoped>\n",
       "    .dataframe tbody tr th:only-of-type {\n",
       "        vertical-align: middle;\n",
       "    }\n",
       "\n",
       "    .dataframe tbody tr th {\n",
       "        vertical-align: top;\n",
       "    }\n",
       "\n",
       "    .dataframe thead th {\n",
       "        text-align: right;\n",
       "    }\n",
       "</style>\n",
       "<table border=\"1\" class=\"dataframe\">\n",
       "  <thead>\n",
       "    <tr style=\"text-align: right;\">\n",
       "      <th></th>\n",
       "      <th>Request</th>\n",
       "      <th>Result</th>\n",
       "      <th>StatusCode</th>\n",
       "      <th>IsSuccess</th>\n",
       "      <th>Duration</th>\n",
       "      <th>TimestampBySecond</th>\n",
       "      <th>ExecutionPace</th>\n",
       "    </tr>\n",
       "  </thead>\n",
       "  <tbody>\n",
       "    <tr>\n",
       "      <th>0</th>\n",
       "      <td>GET http://127.0.0.1:8080/apps/114</td>\n",
       "      <td>Executed</td>\n",
       "      <td>200.0</td>\n",
       "      <td>True</td>\n",
       "      <td>28</td>\n",
       "      <td>2020-08-06 23:04:36</td>\n",
       "      <td>0</td>\n",
       "    </tr>\n",
       "    <tr>\n",
       "      <th>1</th>\n",
       "      <td>GET http://127.0.0.1:8080/apps/119</td>\n",
       "      <td>Executed</td>\n",
       "      <td>200.0</td>\n",
       "      <td>True</td>\n",
       "      <td>28</td>\n",
       "      <td>2020-08-06 23:04:36</td>\n",
       "      <td>0</td>\n",
       "    </tr>\n",
       "    <tr>\n",
       "      <th>2</th>\n",
       "      <td>GET http://127.0.0.1:8080/apps/108</td>\n",
       "      <td>Executed</td>\n",
       "      <td>200.0</td>\n",
       "      <td>True</td>\n",
       "      <td>46</td>\n",
       "      <td>2020-08-06 23:04:36</td>\n",
       "      <td>0</td>\n",
       "    </tr>\n",
       "    <tr>\n",
       "      <th>3</th>\n",
       "      <td>GET http://127.0.0.1:8080/apps/102</td>\n",
       "      <td>Executed</td>\n",
       "      <td>200.0</td>\n",
       "      <td>True</td>\n",
       "      <td>45</td>\n",
       "      <td>2020-08-06 23:04:36</td>\n",
       "      <td>0</td>\n",
       "    </tr>\n",
       "    <tr>\n",
       "      <th>4</th>\n",
       "      <td>GET http://127.0.0.1:8080/apps/106</td>\n",
       "      <td>Executed</td>\n",
       "      <td>200.0</td>\n",
       "      <td>True</td>\n",
       "      <td>53</td>\n",
       "      <td>2020-08-06 23:04:36</td>\n",
       "      <td>0</td>\n",
       "    </tr>\n",
       "    <tr>\n",
       "      <th>5</th>\n",
       "      <td>GET http://127.0.0.1:8080/apps/101</td>\n",
       "      <td>Executed</td>\n",
       "      <td>200.0</td>\n",
       "      <td>True</td>\n",
       "      <td>53</td>\n",
       "      <td>2020-08-06 23:04:36</td>\n",
       "      <td>0</td>\n",
       "    </tr>\n",
       "    <tr>\n",
       "      <th>6</th>\n",
       "      <td>GET http://127.0.0.1:8080/apps/111</td>\n",
       "      <td>Executed</td>\n",
       "      <td>200.0</td>\n",
       "      <td>True</td>\n",
       "      <td>57</td>\n",
       "      <td>2020-08-06 23:04:36</td>\n",
       "      <td>0</td>\n",
       "    </tr>\n",
       "    <tr>\n",
       "      <th>7</th>\n",
       "      <td>GET http://127.0.0.1:8080/apps/106</td>\n",
       "      <td>Executed</td>\n",
       "      <td>200.0</td>\n",
       "      <td>True</td>\n",
       "      <td>58</td>\n",
       "      <td>2020-08-06 23:04:36</td>\n",
       "      <td>0</td>\n",
       "    </tr>\n",
       "    <tr>\n",
       "      <th>8</th>\n",
       "      <td>GET http://127.0.0.1:8080/apps/120</td>\n",
       "      <td>Executed</td>\n",
       "      <td>200.0</td>\n",
       "      <td>True</td>\n",
       "      <td>62</td>\n",
       "      <td>2020-08-06 23:04:36</td>\n",
       "      <td>0</td>\n",
       "    </tr>\n",
       "    <tr>\n",
       "      <th>9</th>\n",
       "      <td>GET http://127.0.0.1:8080/apps/115</td>\n",
       "      <td>Executed</td>\n",
       "      <td>200.0</td>\n",
       "      <td>True</td>\n",
       "      <td>65</td>\n",
       "      <td>2020-08-06 23:04:36</td>\n",
       "      <td>0</td>\n",
       "    </tr>\n",
       "    <tr>\n",
       "      <th>10</th>\n",
       "      <td>GET http://127.0.0.1:8080/apps/104</td>\n",
       "      <td>Executed</td>\n",
       "      <td>200.0</td>\n",
       "      <td>True</td>\n",
       "      <td>68</td>\n",
       "      <td>2020-08-06 23:04:36</td>\n",
       "      <td>0</td>\n",
       "    </tr>\n",
       "    <tr>\n",
       "      <th>11</th>\n",
       "      <td>GET http://127.0.0.1:8080/apps/111</td>\n",
       "      <td>Executed</td>\n",
       "      <td>200.0</td>\n",
       "      <td>True</td>\n",
       "      <td>73</td>\n",
       "      <td>2020-08-06 23:04:36</td>\n",
       "      <td>0</td>\n",
       "    </tr>\n",
       "    <tr>\n",
       "      <th>12</th>\n",
       "      <td>GET http://127.0.0.1:8080/apps/112</td>\n",
       "      <td>Executed</td>\n",
       "      <td>200.0</td>\n",
       "      <td>True</td>\n",
       "      <td>78</td>\n",
       "      <td>2020-08-06 23:04:36</td>\n",
       "      <td>0</td>\n",
       "    </tr>\n",
       "    <tr>\n",
       "      <th>13</th>\n",
       "      <td>GET http://127.0.0.1:8080/apps/120</td>\n",
       "      <td>Executed</td>\n",
       "      <td>200.0</td>\n",
       "      <td>True</td>\n",
       "      <td>83</td>\n",
       "      <td>2020-08-06 23:04:36</td>\n",
       "      <td>0</td>\n",
       "    </tr>\n",
       "    <tr>\n",
       "      <th>14</th>\n",
       "      <td>GET http://127.0.0.1:8080/apps/102</td>\n",
       "      <td>Executed</td>\n",
       "      <td>200.0</td>\n",
       "      <td>True</td>\n",
       "      <td>87</td>\n",
       "      <td>2020-08-06 23:04:36</td>\n",
       "      <td>0</td>\n",
       "    </tr>\n",
       "    <tr>\n",
       "      <th>15</th>\n",
       "      <td>GET http://127.0.0.1:8080/apps/105</td>\n",
       "      <td>Executed</td>\n",
       "      <td>200.0</td>\n",
       "      <td>True</td>\n",
       "      <td>88</td>\n",
       "      <td>2020-08-06 23:04:36</td>\n",
       "      <td>0</td>\n",
       "    </tr>\n",
       "    <tr>\n",
       "      <th>16</th>\n",
       "      <td>GET http://127.0.0.1:8080/apps/116</td>\n",
       "      <td>Executed</td>\n",
       "      <td>200.0</td>\n",
       "      <td>True</td>\n",
       "      <td>91</td>\n",
       "      <td>2020-08-06 23:04:36</td>\n",
       "      <td>0</td>\n",
       "    </tr>\n",
       "    <tr>\n",
       "      <th>17</th>\n",
       "      <td>GET http://127.0.0.1:8080/apps/106</td>\n",
       "      <td>Executed</td>\n",
       "      <td>200.0</td>\n",
       "      <td>True</td>\n",
       "      <td>87</td>\n",
       "      <td>2020-08-06 23:04:36</td>\n",
       "      <td>0</td>\n",
       "    </tr>\n",
       "    <tr>\n",
       "      <th>18</th>\n",
       "      <td>GET http://127.0.0.1:8080/apps/108</td>\n",
       "      <td>Executed</td>\n",
       "      <td>200.0</td>\n",
       "      <td>True</td>\n",
       "      <td>93</td>\n",
       "      <td>2020-08-06 23:04:36</td>\n",
       "      <td>0</td>\n",
       "    </tr>\n",
       "    <tr>\n",
       "      <th>19</th>\n",
       "      <td>GET http://127.0.0.1:8080/apps/105</td>\n",
       "      <td>Executed</td>\n",
       "      <td>200.0</td>\n",
       "      <td>True</td>\n",
       "      <td>87</td>\n",
       "      <td>2020-08-06 23:04:36</td>\n",
       "      <td>0</td>\n",
       "    </tr>\n",
       "  </tbody>\n",
       "</table>\n",
       "</div>"
      ],
      "text/plain": [
       "                               Request    Result  StatusCode  IsSuccess  \\\n",
       "0   GET http://127.0.0.1:8080/apps/114  Executed       200.0       True   \n",
       "1   GET http://127.0.0.1:8080/apps/119  Executed       200.0       True   \n",
       "2   GET http://127.0.0.1:8080/apps/108  Executed       200.0       True   \n",
       "3   GET http://127.0.0.1:8080/apps/102  Executed       200.0       True   \n",
       "4   GET http://127.0.0.1:8080/apps/106  Executed       200.0       True   \n",
       "5   GET http://127.0.0.1:8080/apps/101  Executed       200.0       True   \n",
       "6   GET http://127.0.0.1:8080/apps/111  Executed       200.0       True   \n",
       "7   GET http://127.0.0.1:8080/apps/106  Executed       200.0       True   \n",
       "8   GET http://127.0.0.1:8080/apps/120  Executed       200.0       True   \n",
       "9   GET http://127.0.0.1:8080/apps/115  Executed       200.0       True   \n",
       "10  GET http://127.0.0.1:8080/apps/104  Executed       200.0       True   \n",
       "11  GET http://127.0.0.1:8080/apps/111  Executed       200.0       True   \n",
       "12  GET http://127.0.0.1:8080/apps/112  Executed       200.0       True   \n",
       "13  GET http://127.0.0.1:8080/apps/120  Executed       200.0       True   \n",
       "14  GET http://127.0.0.1:8080/apps/102  Executed       200.0       True   \n",
       "15  GET http://127.0.0.1:8080/apps/105  Executed       200.0       True   \n",
       "16  GET http://127.0.0.1:8080/apps/116  Executed       200.0       True   \n",
       "17  GET http://127.0.0.1:8080/apps/106  Executed       200.0       True   \n",
       "18  GET http://127.0.0.1:8080/apps/108  Executed       200.0       True   \n",
       "19  GET http://127.0.0.1:8080/apps/105  Executed       200.0       True   \n",
       "\n",
       "    Duration   TimestampBySecond  ExecutionPace  \n",
       "0         28 2020-08-06 23:04:36              0  \n",
       "1         28 2020-08-06 23:04:36              0  \n",
       "2         46 2020-08-06 23:04:36              0  \n",
       "3         45 2020-08-06 23:04:36              0  \n",
       "4         53 2020-08-06 23:04:36              0  \n",
       "5         53 2020-08-06 23:04:36              0  \n",
       "6         57 2020-08-06 23:04:36              0  \n",
       "7         58 2020-08-06 23:04:36              0  \n",
       "8         62 2020-08-06 23:04:36              0  \n",
       "9         65 2020-08-06 23:04:36              0  \n",
       "10        68 2020-08-06 23:04:36              0  \n",
       "11        73 2020-08-06 23:04:36              0  \n",
       "12        78 2020-08-06 23:04:36              0  \n",
       "13        83 2020-08-06 23:04:36              0  \n",
       "14        87 2020-08-06 23:04:36              0  \n",
       "15        88 2020-08-06 23:04:36              0  \n",
       "16        91 2020-08-06 23:04:36              0  \n",
       "17        87 2020-08-06 23:04:36              0  \n",
       "18        93 2020-08-06 23:04:36              0  \n",
       "19        87 2020-08-06 23:04:36              0  "
      ]
     },
     "execution_count": 6,
     "metadata": {},
     "output_type": "execute_result"
    }
   ],
   "source": [
    "bo.head(20)"
   ]
  },
  {
   "cell_type": "markdown",
   "metadata": {},
   "source": [
    "---\n",
    "#### Successful Results"
   ]
  },
  {
   "cell_type": "code",
   "execution_count": 7,
   "metadata": {},
   "outputs": [],
   "source": [
    "bos = bo[bo.IsSuccess]"
   ]
  },
  {
   "cell_type": "markdown",
   "metadata": {},
   "source": [
    "Request duration stats"
   ]
  },
  {
   "cell_type": "code",
   "execution_count": 8,
   "metadata": {},
   "outputs": [
    {
     "data": {
      "text/plain": [
       "count    9997.000000\n",
       "mean       77.593878\n",
       "std        30.186822\n",
       "min        25.000000\n",
       "20%        52.000000\n",
       "40%        66.000000\n",
       "50%        71.000000\n",
       "60%        79.000000\n",
       "80%        98.000000\n",
       "90%       117.000000\n",
       "95%       136.000000\n",
       "99%       176.000000\n",
       "max       316.000000\n",
       "Name: Duration, dtype: float64"
      ]
     },
     "execution_count": 8,
     "metadata": {},
     "output_type": "execute_result"
    }
   ],
   "source": [
    "bos.Duration.describe(percentiles=[.20, .40, .60, .80, .90, .95, .99])"
   ]
  },
  {
   "cell_type": "markdown",
   "metadata": {},
   "source": [
    "Stats by status code"
   ]
  },
  {
   "cell_type": "code",
   "execution_count": 9,
   "metadata": {},
   "outputs": [
    {
     "data": {
      "text/html": [
       "<div>\n",
       "<style scoped>\n",
       "    .dataframe tbody tr th:only-of-type {\n",
       "        vertical-align: middle;\n",
       "    }\n",
       "\n",
       "    .dataframe tbody tr th {\n",
       "        vertical-align: top;\n",
       "    }\n",
       "\n",
       "    .dataframe thead th {\n",
       "        text-align: right;\n",
       "    }\n",
       "</style>\n",
       "<table border=\"1\" class=\"dataframe\">\n",
       "  <thead>\n",
       "    <tr style=\"text-align: right;\">\n",
       "      <th></th>\n",
       "      <th>count</th>\n",
       "      <th>min</th>\n",
       "      <th>max</th>\n",
       "      <th>mean</th>\n",
       "      <th>std</th>\n",
       "    </tr>\n",
       "    <tr>\n",
       "      <th>StatusCode</th>\n",
       "      <th></th>\n",
       "      <th></th>\n",
       "      <th></th>\n",
       "      <th></th>\n",
       "      <th></th>\n",
       "    </tr>\n",
       "  </thead>\n",
       "  <tbody>\n",
       "    <tr>\n",
       "      <th>200.0</th>\n",
       "      <td>9997</td>\n",
       "      <td>25</td>\n",
       "      <td>316</td>\n",
       "      <td>77.593878</td>\n",
       "      <td>30.186822</td>\n",
       "    </tr>\n",
       "  </tbody>\n",
       "</table>\n",
       "</div>"
      ],
      "text/plain": [
       "            count  min  max       mean        std\n",
       "StatusCode                                       \n",
       "200.0        9997   25  316  77.593878  30.186822"
      ]
     },
     "execution_count": 9,
     "metadata": {},
     "output_type": "execute_result"
    }
   ],
   "source": [
    "bos.groupby('StatusCode').Duration.agg(\n",
    "    ['count', 'min', 'max', 'mean', 'std']\n",
    ").sort_values('mean', ascending=False)"
   ]
  },
  {
   "cell_type": "markdown",
   "metadata": {},
   "source": [
    "---\n",
    "#### Errors"
   ]
  },
  {
   "cell_type": "code",
   "execution_count": 10,
   "metadata": {},
   "outputs": [],
   "source": [
    "bof = bo[~bo.IsSuccess]\n",
    "bofc = bof[bof.Result != 'Executed']\n",
    "bofs = bof[bof.Result == 'Executed']"
   ]
  },
  {
   "cell_type": "markdown",
   "metadata": {},
   "source": [
    "Sampling"
   ]
  },
  {
   "cell_type": "code",
   "execution_count": 11,
   "metadata": {},
   "outputs": [
    {
     "data": {
      "text/html": [
       "<div>\n",
       "<style scoped>\n",
       "    .dataframe tbody tr th:only-of-type {\n",
       "        vertical-align: middle;\n",
       "    }\n",
       "\n",
       "    .dataframe tbody tr th {\n",
       "        vertical-align: top;\n",
       "    }\n",
       "\n",
       "    .dataframe thead th {\n",
       "        text-align: right;\n",
       "    }\n",
       "</style>\n",
       "<table border=\"1\" class=\"dataframe\">\n",
       "  <thead>\n",
       "    <tr style=\"text-align: right;\">\n",
       "      <th></th>\n",
       "      <th>Request</th>\n",
       "      <th>Result</th>\n",
       "      <th>StatusCode</th>\n",
       "      <th>IsSuccess</th>\n",
       "      <th>Duration</th>\n",
       "      <th>TimestampBySecond</th>\n",
       "      <th>ExecutionPace</th>\n",
       "    </tr>\n",
       "  </thead>\n",
       "  <tbody>\n",
       "    <tr>\n",
       "      <th>498</th>\n",
       "      <td>GET http://127.0.0.1:8080/apps/invalid</td>\n",
       "      <td>Executed</td>\n",
       "      <td>404.0</td>\n",
       "      <td>False</td>\n",
       "      <td>83</td>\n",
       "      <td>2020-08-06 23:04:36</td>\n",
       "      <td>0</td>\n",
       "    </tr>\n",
       "    <tr>\n",
       "      <th>748</th>\n",
       "      <td>GET http://127.0.0.1:8080/apps/120</td>\n",
       "      <td>Request timeout</td>\n",
       "      <td>NaN</td>\n",
       "      <td>False</td>\n",
       "      <td>30000</td>\n",
       "      <td>2020-08-06 23:04:36</td>\n",
       "      <td>0</td>\n",
       "    </tr>\n",
       "    <tr>\n",
       "      <th>2105</th>\n",
       "      <td>GET http://127.0.0.1:8080/apps/invalid</td>\n",
       "      <td>Executed</td>\n",
       "      <td>404.0</td>\n",
       "      <td>False</td>\n",
       "      <td>54</td>\n",
       "      <td>2020-08-06 23:04:38</td>\n",
       "      <td>2</td>\n",
       "    </tr>\n",
       "  </tbody>\n",
       "</table>\n",
       "</div>"
      ],
      "text/plain": [
       "                                     Request           Result  StatusCode  \\\n",
       "498   GET http://127.0.0.1:8080/apps/invalid         Executed       404.0   \n",
       "748       GET http://127.0.0.1:8080/apps/120  Request timeout         NaN   \n",
       "2105  GET http://127.0.0.1:8080/apps/invalid         Executed       404.0   \n",
       "\n",
       "      IsSuccess  Duration   TimestampBySecond  ExecutionPace  \n",
       "498       False        83 2020-08-06 23:04:36              0  \n",
       "748       False     30000 2020-08-06 23:04:36              0  \n",
       "2105      False        54 2020-08-06 23:04:38              2  "
      ]
     },
     "execution_count": 11,
     "metadata": {},
     "output_type": "execute_result"
    }
   ],
   "source": [
    "bof.head(20)"
   ]
  },
  {
   "cell_type": "markdown",
   "metadata": {},
   "source": [
    "Client side errors by result"
   ]
  },
  {
   "cell_type": "code",
   "execution_count": 12,
   "metadata": {},
   "outputs": [
    {
     "data": {
      "text/plain": [
       "Result\n",
       "Request timeout    1\n",
       "Name: TimestampBySecond, dtype: int64"
      ]
     },
     "execution_count": 12,
     "metadata": {},
     "output_type": "execute_result"
    }
   ],
   "source": [
    "bofc.groupby('Result').TimestampBySecond.count().sort_values(ascending=False)"
   ]
  },
  {
   "cell_type": "markdown",
   "metadata": {},
   "source": [
    "Server side errors by status code"
   ]
  },
  {
   "cell_type": "code",
   "execution_count": 13,
   "metadata": {},
   "outputs": [
    {
     "data": {
      "text/plain": [
       "StatusCode\n",
       "404.0    2\n",
       "Name: TimestampBySecond, dtype: int64"
      ]
     },
     "execution_count": 13,
     "metadata": {},
     "output_type": "execute_result"
    }
   ],
   "source": [
    "bofs.groupby('StatusCode').TimestampBySecond.count().sort_values(ascending=False)"
   ]
  },
  {
   "cell_type": "markdown",
   "metadata": {},
   "source": [
    "---\n",
    "#### Charts"
   ]
  },
  {
   "cell_type": "code",
   "execution_count": 14,
   "metadata": {},
   "outputs": [],
   "source": [
    "sea.set(\n",
    "    style=\"darkgrid\", \n",
    "    rc={'figure.figsize':(11.7,8.27)}\n",
    ")"
   ]
  },
  {
   "cell_type": "markdown",
   "metadata": {},
   "source": [
    "Average Request Duration Second by Second"
   ]
  },
  {
   "cell_type": "code",
   "execution_count": 15,
   "metadata": {},
   "outputs": [
    {
     "data": {
      "text/plain": [
       "[Text(0.5, 1.0, 'Average Request Duration Second by Second'),\n",
       " Text(0.5, 0, 'Execution (second by second)'),\n",
       " Text(0, 0.5, 'Duration (ms)')]"
      ]
     },
     "execution_count": 15,
     "metadata": {},
     "output_type": "execute_result"
    },
    {
     "data": {
      "image/png": "[encoded data removed]",
      "text/plain": [
       "<Figure size 842.4x595.44 with 1 Axes>"
      ]
     },
     "metadata": {},
     "output_type": "display_data"
    }
   ],
   "source": [
    "duration_img=sea.lineplot(\n",
    "    x=\"ExecutionPace\", \n",
    "    y=\"Duration\", \n",
    "    estimator=np.average, \n",
    "    data=bos,\n",
    ")\n",
    "duration_img.set(\n",
    "    title='Average Request Duration Second by Second', \n",
    "    xlabel='Execution (second by second)', \n",
    "    ylabel='Duration (ms)'\n",
    ")"
   ]
  },
  {
   "cell_type": "markdown",
   "metadata": {},
   "source": [
    "Requests per Second"
   ]
  },
  {
   "cell_type": "code",
   "execution_count": 16,
   "metadata": {},
   "outputs": [
    {
     "data": {
      "text/plain": [
       "[Text(0.5, 1.0, 'Requests per Second'),\n",
       " Text(0.5, 0, 'Execution (second by second)'),\n",
       " Text(0, 0.5, 'Number of Requests')]"
      ]
     },
     "execution_count": 16,
     "metadata": {},
     "output_type": "execute_result"
    },
    {
     "data": {
      "image/png": "[encoded data removed]",
      "text/plain": [
       "<Figure size 842.4x595.44 with 1 Axes>"
      ]
     },
     "metadata": {},
     "output_type": "display_data"
    }
   ],
   "source": [
    "rps_img=sea.lineplot(\n",
    "    x=\"ExecutionPace\", \n",
    "    y=\"StatusCode\", \n",
    "    estimator=np.count_nonzero, \n",
    "    data=bos,\n",
    ")\n",
    "rps_img.set(\n",
    "    title='Requests per Second', \n",
    "    xlabel='Execution (second by second)', \n",
    "    ylabel='Number of Requests'\n",
    ")"
   ]
  },
  {
   "cell_type": "markdown",
   "metadata": {},
   "source": [
    "Request Duration vs Requests per Second"
   ]
  },
  {
   "cell_type": "code",
   "execution_count": 17,
   "metadata": {},
   "outputs": [
    {
     "data": {
      "text/plain": [
       "[Text(0, 0.5, 'Number of Requests')]"
      ]
     },
     "execution_count": 17,
     "metadata": {},
     "output_type": "execute_result"
    },
    {
     "data": {
      "image/png": "[encoded data removed]",
      "text/plain": [
       "<Figure size 842.4x595.44 with 2 Axes>"
      ]
     },
     "metadata": {},
     "output_type": "display_data"
    }
   ],
   "source": [
    "fig = sea.lineplot(\n",
    "    x=\"ExecutionPace\", \n",
    "    y=\"Duration\", \n",
    "    estimator=np.average, \n",
    "    data=bos,\n",
    ")\n",
    "fig.set(\n",
    "    title='Request Duration vs Requests per Second', \n",
    "    xlabel='Execution (second by second)', \n",
    "    ylabel='Duration (ms)'\n",
    ")\n",
    "fig2 = sea.lineplot(\n",
    "    x=\"ExecutionPace\", \n",
    "    y=\"StatusCode\", \n",
    "    estimator=np.count_nonzero, \n",
    "    data=bos,\n",
    "    ax=fig.twinx(), \n",
    "    color='r',\n",
    ")\n",
    "fig2.set(\n",
    "    ylabel='Number of Requests'\n",
    ")"
   ]
  },
  {
   "cell_type": "markdown",
   "metadata": {},
   "source": [
    "Errors"
   ]
  },
  {
   "cell_type": "code",
   "execution_count": 18,
   "metadata": {},
   "outputs": [
    {
     "data": {
      "text/plain": [
       "[Text(0.5, 1.0, 'Errors per Second'),\n",
       " Text(0.5, 0, 'Execution (second by second)'),\n",
       " Text(0, 0.5, 'Number of Errors')]"
      ]
     },
     "execution_count": 18,
     "metadata": {},
     "output_type": "execute_result"
    },
    {
     "data": {
      "image/png": "[encoded data removed]",
      "text/plain": [
       "<Figure size 842.4x595.44 with 1 Axes>"
      ]
     },
     "metadata": {},
     "output_type": "display_data"
    }
   ],
   "source": [
    "errors_img=sea.barplot(\n",
    "    x=\"ExecutionPace\", \n",
    "    y=\"TimestampBySecond\", \n",
    "    estimator=np.count_nonzero, \n",
    "    data=bof,\n",
    "    color='r'\n",
    ")\n",
    "errors_img.set(\n",
    "    title='Errors per Second', \n",
    "    xlabel='Execution (second by second)', \n",
    "    ylabel='Number of Errors'\n",
    ")"
   ]
  }
 ],
 "metadata": {
  "kernelspec": {
   "display_name": "Python 3",
   "language": "python",
   "name": "python3"
  },
  "language_info": {
   "codemirror_mode": {
    "name": "ipython",
    "version": 3
   },
   "file_extension": ".py",
   "mimetype": "text/x-python",
   "name": "python",
   "nbconvert_exporter": "python",
   "pygments_lexer": "ipython3",
   "version": "3.7.3"
  }
 },
 "nbformat": 4,
 "nbformat_minor": 4
}
