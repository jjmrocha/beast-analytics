{
 "cells": [
  {
   "cell_type": "markdown",
   "metadata": {},
   "source": [
    "Beast Analytics\n",
    "===============\n",
    "\n",
    "Single output file analise\n",
    "--------------------------"
   ]
  },
  {
   "cell_type": "markdown",
   "metadata": {},
   "source": [
    "1. Output file to analise"
   ]
  },
  {
   "cell_type": "code",
   "execution_count": 1,
   "metadata": {},
   "outputs": [],
   "source": [
    "file_name = 'datasets/sample.csv'"
   ]
  },
  {
   "cell_type": "markdown",
   "metadata": {},
   "source": [
    "2. Load pakages and functions"
   ]
  },
  {
   "cell_type": "code",
   "execution_count": 2,
   "metadata": {},
   "outputs": [],
   "source": [
    "import pandas as pd\n",
    "import seaborn as sea\n",
    "from datetime import datetime\n",
    "import numpy as np\n",
    "\n",
    "# to_datetime converts str dates to datetime objects\n",
    "def to_datetime(value: str) -> datetime:\n",
    "    return datetime.strptime(value[:19], '%Y-%m-%d %H:%M:%S')\n",
    "\n",
    "# delta_in_seconds returns the diference beween value and fisrt in seconds \n",
    "def delta_in_seconds(value: datetime, first: datetime) -> float:\n",
    "    delta = value - first\n",
    "    return delta.total_seconds()"
   ]
  },
  {
   "cell_type": "markdown",
   "metadata": {},
   "source": [
    "3. Load data"
   ]
  },
  {
   "cell_type": "code",
   "execution_count": 3,
   "metadata": {},
   "outputs": [
    {
     "data": {
      "text/html": [
       "<div>\n",
       "<style scoped>\n",
       "    .dataframe tbody tr th:only-of-type {\n",
       "        vertical-align: middle;\n",
       "    }\n",
       "\n",
       "    .dataframe tbody tr th {\n",
       "        vertical-align: top;\n",
       "    }\n",
       "\n",
       "    .dataframe thead th {\n",
       "        text-align: right;\n",
       "    }\n",
       "</style>\n",
       "<table border=\"1\" class=\"dataframe\">\n",
       "  <thead>\n",
       "    <tr style=\"text-align: right;\">\n",
       "      <th></th>\n",
       "      <th>Timestamp</th>\n",
       "      <th>Request</th>\n",
       "      <th>Result</th>\n",
       "      <th>StatusCode</th>\n",
       "      <th>IsSuccess</th>\n",
       "      <th>Duration</th>\n",
       "    </tr>\n",
       "  </thead>\n",
       "  <tbody>\n",
       "    <tr>\n",
       "      <th>6426</th>\n",
       "      <td>2020-08-06 23:04:41.455</td>\n",
       "      <td>GET http://127.0.0.1:8080/apps/105</td>\n",
       "      <td>Executed</td>\n",
       "      <td>200</td>\n",
       "      <td>True</td>\n",
       "      <td>40</td>\n",
       "    </tr>\n",
       "    <tr>\n",
       "      <th>2651</th>\n",
       "      <td>2020-08-06 23:04:38.365</td>\n",
       "      <td>GET http://127.0.0.1:8080/apps/110</td>\n",
       "      <td>Executed</td>\n",
       "      <td>200</td>\n",
       "      <td>True</td>\n",
       "      <td>145</td>\n",
       "    </tr>\n",
       "    <tr>\n",
       "      <th>6081</th>\n",
       "      <td>2020-08-06 23:04:41.133</td>\n",
       "      <td>GET http://127.0.0.1:8080/apps/107</td>\n",
       "      <td>Executed</td>\n",
       "      <td>200</td>\n",
       "      <td>True</td>\n",
       "      <td>96</td>\n",
       "    </tr>\n",
       "    <tr>\n",
       "      <th>484</th>\n",
       "      <td>2020-08-06 23:04:36.528</td>\n",
       "      <td>GET http://127.0.0.1:8080/apps/117</td>\n",
       "      <td>Executed</td>\n",
       "      <td>200</td>\n",
       "      <td>True</td>\n",
       "      <td>92</td>\n",
       "    </tr>\n",
       "    <tr>\n",
       "      <th>4553</th>\n",
       "      <td>2020-08-06 23:04:39.898</td>\n",
       "      <td>GET http://127.0.0.1:8080/apps/110</td>\n",
       "      <td>Executed</td>\n",
       "      <td>200</td>\n",
       "      <td>True</td>\n",
       "      <td>92</td>\n",
       "    </tr>\n",
       "    <tr>\n",
       "      <th>3638</th>\n",
       "      <td>2020-08-06 23:04:39.174</td>\n",
       "      <td>GET http://127.0.0.1:8080/apps/112</td>\n",
       "      <td>Executed</td>\n",
       "      <td>200</td>\n",
       "      <td>True</td>\n",
       "      <td>111</td>\n",
       "    </tr>\n",
       "    <tr>\n",
       "      <th>4724</th>\n",
       "      <td>2020-08-06 23:04:40.068</td>\n",
       "      <td>GET http://127.0.0.1:8080/apps/103</td>\n",
       "      <td>Executed</td>\n",
       "      <td>200</td>\n",
       "      <td>True</td>\n",
       "      <td>51</td>\n",
       "    </tr>\n",
       "    <tr>\n",
       "      <th>6469</th>\n",
       "      <td>2020-08-06 23:04:41.433</td>\n",
       "      <td>GET http://127.0.0.1:8080/apps/114</td>\n",
       "      <td>Executed</td>\n",
       "      <td>200</td>\n",
       "      <td>True</td>\n",
       "      <td>91</td>\n",
       "    </tr>\n",
       "    <tr>\n",
       "      <th>9219</th>\n",
       "      <td>2020-08-06 23:04:43.46</td>\n",
       "      <td>GET http://127.0.0.1:8080/apps/112</td>\n",
       "      <td>Executed</td>\n",
       "      <td>200</td>\n",
       "      <td>True</td>\n",
       "      <td>59</td>\n",
       "    </tr>\n",
       "    <tr>\n",
       "      <th>4513</th>\n",
       "      <td>2020-08-06 23:04:39.911</td>\n",
       "      <td>GET http://127.0.0.1:8080/apps/108</td>\n",
       "      <td>Executed</td>\n",
       "      <td>200</td>\n",
       "      <td>True</td>\n",
       "      <td>50</td>\n",
       "    </tr>\n",
       "    <tr>\n",
       "      <th>5976</th>\n",
       "      <td>2020-08-06 23:04:41.094</td>\n",
       "      <td>GET http://127.0.0.1:8080/apps/118</td>\n",
       "      <td>Executed</td>\n",
       "      <td>200</td>\n",
       "      <td>True</td>\n",
       "      <td>45</td>\n",
       "    </tr>\n",
       "    <tr>\n",
       "      <th>5437</th>\n",
       "      <td>2020-08-06 23:04:40.565</td>\n",
       "      <td>GET http://127.0.0.1:8080/apps/114</td>\n",
       "      <td>Executed</td>\n",
       "      <td>200</td>\n",
       "      <td>True</td>\n",
       "      <td>116</td>\n",
       "    </tr>\n",
       "    <tr>\n",
       "      <th>3271</th>\n",
       "      <td>2020-08-06 23:04:38.899</td>\n",
       "      <td>GET http://127.0.0.1:8080/apps/109</td>\n",
       "      <td>Executed</td>\n",
       "      <td>200</td>\n",
       "      <td>True</td>\n",
       "      <td>96</td>\n",
       "    </tr>\n",
       "    <tr>\n",
       "      <th>4803</th>\n",
       "      <td>2020-08-06 23:04:40.073</td>\n",
       "      <td>GET http://127.0.0.1:8080/apps/112</td>\n",
       "      <td>Executed</td>\n",
       "      <td>200</td>\n",
       "      <td>True</td>\n",
       "      <td>104</td>\n",
       "    </tr>\n",
       "    <tr>\n",
       "      <th>8227</th>\n",
       "      <td>2020-08-06 23:04:42.736</td>\n",
       "      <td>GET http://127.0.0.1:8080/apps/106</td>\n",
       "      <td>Executed</td>\n",
       "      <td>200</td>\n",
       "      <td>True</td>\n",
       "      <td>88</td>\n",
       "    </tr>\n",
       "    <tr>\n",
       "      <th>496</th>\n",
       "      <td>2020-08-06 23:04:36.526</td>\n",
       "      <td>GET http://127.0.0.1:8080/apps/113</td>\n",
       "      <td>Executed</td>\n",
       "      <td>200</td>\n",
       "      <td>True</td>\n",
       "      <td>103</td>\n",
       "    </tr>\n",
       "    <tr>\n",
       "      <th>4826</th>\n",
       "      <td>2020-08-06 23:04:40.143</td>\n",
       "      <td>GET http://127.0.0.1:8080/apps/113</td>\n",
       "      <td>Executed</td>\n",
       "      <td>200</td>\n",
       "      <td>True</td>\n",
       "      <td>57</td>\n",
       "    </tr>\n",
       "    <tr>\n",
       "      <th>700</th>\n",
       "      <td>2020-08-06 23:04:36.761</td>\n",
       "      <td>GET http://127.0.0.1:8080/apps/106</td>\n",
       "      <td>Executed</td>\n",
       "      <td>200</td>\n",
       "      <td>True</td>\n",
       "      <td>89</td>\n",
       "    </tr>\n",
       "    <tr>\n",
       "      <th>4437</th>\n",
       "      <td>2020-08-06 23:04:39.839</td>\n",
       "      <td>GET http://127.0.0.1:8080/apps/111</td>\n",
       "      <td>Executed</td>\n",
       "      <td>200</td>\n",
       "      <td>True</td>\n",
       "      <td>64</td>\n",
       "    </tr>\n",
       "    <tr>\n",
       "      <th>6353</th>\n",
       "      <td>2020-08-06 23:04:41.313</td>\n",
       "      <td>GET http://127.0.0.1:8080/apps/111</td>\n",
       "      <td>Executed</td>\n",
       "      <td>200</td>\n",
       "      <td>True</td>\n",
       "      <td>89</td>\n",
       "    </tr>\n",
       "  </tbody>\n",
       "</table>\n",
       "</div>"
      ],
      "text/plain": [
       "                    Timestamp                             Request    Result  \\\n",
       "6426  2020-08-06 23:04:41.455  GET http://127.0.0.1:8080/apps/105  Executed   \n",
       "2651  2020-08-06 23:04:38.365  GET http://127.0.0.1:8080/apps/110  Executed   \n",
       "6081  2020-08-06 23:04:41.133  GET http://127.0.0.1:8080/apps/107  Executed   \n",
       "484   2020-08-06 23:04:36.528  GET http://127.0.0.1:8080/apps/117  Executed   \n",
       "4553  2020-08-06 23:04:39.898  GET http://127.0.0.1:8080/apps/110  Executed   \n",
       "3638  2020-08-06 23:04:39.174  GET http://127.0.0.1:8080/apps/112  Executed   \n",
       "4724  2020-08-06 23:04:40.068  GET http://127.0.0.1:8080/apps/103  Executed   \n",
       "6469  2020-08-06 23:04:41.433  GET http://127.0.0.1:8080/apps/114  Executed   \n",
       "9219   2020-08-06 23:04:43.46  GET http://127.0.0.1:8080/apps/112  Executed   \n",
       "4513  2020-08-06 23:04:39.911  GET http://127.0.0.1:8080/apps/108  Executed   \n",
       "5976  2020-08-06 23:04:41.094  GET http://127.0.0.1:8080/apps/118  Executed   \n",
       "5437  2020-08-06 23:04:40.565  GET http://127.0.0.1:8080/apps/114  Executed   \n",
       "3271  2020-08-06 23:04:38.899  GET http://127.0.0.1:8080/apps/109  Executed   \n",
       "4803  2020-08-06 23:04:40.073  GET http://127.0.0.1:8080/apps/112  Executed   \n",
       "8227  2020-08-06 23:04:42.736  GET http://127.0.0.1:8080/apps/106  Executed   \n",
       "496   2020-08-06 23:04:36.526  GET http://127.0.0.1:8080/apps/113  Executed   \n",
       "4826  2020-08-06 23:04:40.143  GET http://127.0.0.1:8080/apps/113  Executed   \n",
       "700   2020-08-06 23:04:36.761  GET http://127.0.0.1:8080/apps/106  Executed   \n",
       "4437  2020-08-06 23:04:39.839  GET http://127.0.0.1:8080/apps/111  Executed   \n",
       "6353  2020-08-06 23:04:41.313  GET http://127.0.0.1:8080/apps/111  Executed   \n",
       "\n",
       "      StatusCode  IsSuccess  Duration  \n",
       "6426         200       True        40  \n",
       "2651         200       True       145  \n",
       "6081         200       True        96  \n",
       "484          200       True        92  \n",
       "4553         200       True        92  \n",
       "3638         200       True       111  \n",
       "4724         200       True        51  \n",
       "6469         200       True        91  \n",
       "9219         200       True        59  \n",
       "4513         200       True        50  \n",
       "5976         200       True        45  \n",
       "5437         200       True       116  \n",
       "3271         200       True        96  \n",
       "4803         200       True       104  \n",
       "8227         200       True        88  \n",
       "496          200       True       103  \n",
       "4826         200       True        57  \n",
       "700          200       True        89  \n",
       "4437         200       True        64  \n",
       "6353         200       True        89  "
      ]
     },
     "execution_count": 3,
     "metadata": {},
     "output_type": "execute_result"
    }
   ],
   "source": [
    "bo = pd.read_csv(file_name)\n",
    "bo.sample(20)"
   ]
  },
  {
   "cell_type": "markdown",
   "metadata": {},
   "source": [
    "4. Some info aboud the data"
   ]
  },
  {
   "cell_type": "code",
   "execution_count": 4,
   "metadata": {},
   "outputs": [
    {
     "name": "stdout",
     "output_type": "stream",
     "text": [
      "<class 'pandas.core.frame.DataFrame'>\n",
      "RangeIndex: 10000 entries, 0 to 9999\n",
      "Data columns (total 6 columns):\n",
      " #   Column      Non-Null Count  Dtype \n",
      "---  ------      --------------  ----- \n",
      " 0   Timestamp   10000 non-null  object\n",
      " 1   Request     10000 non-null  object\n",
      " 2   Result      10000 non-null  object\n",
      " 3   StatusCode  10000 non-null  int64 \n",
      " 4   IsSuccess   10000 non-null  bool  \n",
      " 5   Duration    10000 non-null  int64 \n",
      "dtypes: bool(1), int64(2), object(3)\n",
      "memory usage: 400.5+ KB\n"
     ]
    }
   ],
   "source": [
    "bo.info()"
   ]
  },
  {
   "cell_type": "markdown",
   "metadata": {},
   "source": [
    "5. Data convertion and separation"
   ]
  },
  {
   "cell_type": "code",
   "execution_count": 5,
   "metadata": {},
   "outputs": [],
   "source": [
    "bo['TimestampBySecond'] = bo.Timestamp.apply(to_datetime)\n",
    "first_datetime = bo.TimestampBySecond.min()\n",
    "bo['ExecutionPace'] = bo.TimestampBySecond.apply(delta_in_seconds, args=(first_datetime,))\n",
    "bos = bo[bo.IsSuccess]\n",
    "bof = bo[~bo.IsSuccess]\n",
    "bofc = bof[bof.Result != 'Executed']\n",
    "bofs = bof[bof.Result == 'Executed']"
   ]
  },
  {
   "cell_type": "markdown",
   "metadata": {},
   "source": [
    "6. Success stats"
   ]
  },
  {
   "cell_type": "code",
   "execution_count": 6,
   "metadata": {},
   "outputs": [
    {
     "data": {
      "text/plain": [
       "count    10000.000000\n",
       "mean        77.591700\n",
       "std         30.183285\n",
       "min         25.000000\n",
       "20%         52.000000\n",
       "40%         66.000000\n",
       "50%         71.000000\n",
       "60%         79.000000\n",
       "80%         98.000000\n",
       "90%        117.000000\n",
       "95%        136.000000\n",
       "99%        176.000000\n",
       "max        316.000000\n",
       "Name: Duration, dtype: float64"
      ]
     },
     "execution_count": 6,
     "metadata": {},
     "output_type": "execute_result"
    }
   ],
   "source": [
    "bos.Duration.describe(percentiles=[.20, .40, .60, .80, .90, .95, .99])"
   ]
  },
  {
   "cell_type": "code",
   "execution_count": 7,
   "metadata": {},
   "outputs": [
    {
     "data": {
      "text/html": [
       "<div>\n",
       "<style scoped>\n",
       "    .dataframe tbody tr th:only-of-type {\n",
       "        vertical-align: middle;\n",
       "    }\n",
       "\n",
       "    .dataframe tbody tr th {\n",
       "        vertical-align: top;\n",
       "    }\n",
       "\n",
       "    .dataframe thead th {\n",
       "        text-align: right;\n",
       "    }\n",
       "</style>\n",
       "<table border=\"1\" class=\"dataframe\">\n",
       "  <thead>\n",
       "    <tr style=\"text-align: right;\">\n",
       "      <th></th>\n",
       "      <th>mean</th>\n",
       "      <th>count</th>\n",
       "    </tr>\n",
       "    <tr>\n",
       "      <th>StatusCode</th>\n",
       "      <th></th>\n",
       "      <th></th>\n",
       "    </tr>\n",
       "  </thead>\n",
       "  <tbody>\n",
       "    <tr>\n",
       "      <th>200</th>\n",
       "      <td>77.5917</td>\n",
       "      <td>10000</td>\n",
       "    </tr>\n",
       "  </tbody>\n",
       "</table>\n",
       "</div>"
      ],
      "text/plain": [
       "               mean  count\n",
       "StatusCode                \n",
       "200         77.5917  10000"
      ]
     },
     "execution_count": 7,
     "metadata": {},
     "output_type": "execute_result"
    }
   ],
   "source": [
    "bos.groupby('StatusCode').Duration.agg(['mean', 'count']).sort_values('mean', ascending=False)"
   ]
  },
  {
   "cell_type": "markdown",
   "metadata": {},
   "source": [
    "7. Success chart"
   ]
  },
  {
   "cell_type": "code",
   "execution_count": 8,
   "metadata": {},
   "outputs": [
    {
     "data": {
      "text/plain": [
       "[Text(0.5, 1.0, 'Average Request Duration Second by Second'),\n",
       " Text(0.5, 0, 'Execution (second by second)'),\n",
       " Text(0, 0.5, 'Duration (ms)')]"
      ]
     },
     "execution_count": 8,
     "metadata": {},
     "output_type": "execute_result"
    },
    {
     "data": {
      "image/png": "[encoded data removed]",
      "text/plain": [
       "<Figure size 842.4x595.44 with 1 Axes>"
      ]
     },
     "metadata": {},
     "output_type": "display_data"
    }
   ],
   "source": [
    "sea.set(\n",
    "    style=\"darkgrid\", \n",
    "    rc={'figure.figsize':(11.7,8.27)}\n",
    ")\n",
    "img=sea.lineplot(\n",
    "    x=\"ExecutionPace\", \n",
    "    y=\"Duration\", \n",
    "    estimator=np.average, \n",
    "    data=bos,\n",
    ")\n",
    "img.set(\n",
    "    title='Average Request Duration Second by Second', \n",
    "    xlabel='Execution (second by second)', \n",
    "    ylabel='Duration (ms)'\n",
    ")"
   ]
  },
  {
   "cell_type": "markdown",
   "metadata": {},
   "source": [
    "8. Client side errors"
   ]
  },
  {
   "cell_type": "code",
   "execution_count": 9,
   "metadata": {},
   "outputs": [
    {
     "data": {
      "text/plain": [
       "Series([], Name: Timestamp, dtype: int64)"
      ]
     },
     "execution_count": 9,
     "metadata": {},
     "output_type": "execute_result"
    }
   ],
   "source": [
    "bofc.groupby('Result').Timestamp.count().sort_values(ascending=False)"
   ]
  },
  {
   "cell_type": "markdown",
   "metadata": {},
   "source": [
    "9. Server side errors"
   ]
  },
  {
   "cell_type": "code",
   "execution_count": 10,
   "metadata": {},
   "outputs": [
    {
     "data": {
      "text/plain": [
       "Series([], Name: Timestamp, dtype: int64)"
      ]
     },
     "execution_count": 10,
     "metadata": {},
     "output_type": "execute_result"
    }
   ],
   "source": [
    "bofs.groupby('StatusCode').Timestamp.count().sort_values(ascending=False)"
   ]
  },
  {
   "cell_type": "code",
   "execution_count": null,
   "metadata": {},
   "outputs": [],
   "source": []
  }
 ],
 "metadata": {
  "kernelspec": {
   "display_name": "Python 3",
   "language": "python",
   "name": "python3"
  },
  "language_info": {
   "codemirror_mode": {
    "name": "ipython",
    "version": 3
   },
   "file_extension": ".py",
   "mimetype": "text/x-python",
   "name": "python",
   "nbconvert_exporter": "python",
   "pygments_lexer": "ipython3",
   "version": "3.7.3"
  }
 },
 "nbformat": 4,
 "nbformat_minor": 4
}
